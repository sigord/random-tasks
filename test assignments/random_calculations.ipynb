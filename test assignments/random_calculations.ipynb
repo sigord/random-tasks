{
 "cells": [
  {
   "cell_type": "code",
   "execution_count": 1,
   "id": "2bf098b4",
   "metadata": {},
   "outputs": [],
   "source": [
    "import numpy as np\n",
    "import pandas as pd"
   ]
  },
  {
   "cell_type": "code",
   "execution_count": 2,
   "id": "2a363636",
   "metadata": {},
   "outputs": [
    {
     "data": {
      "text/plain": [
       "57.36"
      ]
     },
     "execution_count": 2,
     "metadata": {},
     "output_type": "execute_result"
    }
   ],
   "source": [
    "np.var([1,22,3,4,6])"
   ]
  },
  {
   "cell_type": "code",
   "execution_count": 9,
   "id": "49feb3bf",
   "metadata": {},
   "outputs": [
    {
     "data": {
      "text/plain": [
       "'Dfnoag Fagda'"
      ]
     },
     "execution_count": 9,
     "metadata": {},
     "output_type": "execute_result"
    }
   ],
   "source": [
    "string = \"Adgaf Gaonfd\"\n",
    "string[::-1].title()"
   ]
  },
  {
   "cell_type": "code",
   "execution_count": 28,
   "id": "6967f0fe",
   "metadata": {},
   "outputs": [
    {
     "name": "stdout",
     "output_type": "stream",
     "text": [
      "2.011\n"
     ]
    }
   ],
   "source": [
    "from typing import Generic, TypeVar\n",
    "\n",
    "T = TypeVar(\"T\", int, float)\n",
    "    \n",
    "class chain_sum_int(int):\n",
    "    def __call__(self, addiotion = 0):\n",
    "        return chain_sum(self + addiotion)\n",
    "\n",
    "\n",
    "class chain_sum_float(float):\n",
    "    def __call__(self, addiotion = 0):\n",
    "        return chain_sum(self + addiotion)\n",
    "    \n",
    "    \n",
    "class chain_sum(object):\n",
    "    type_dict = {\n",
    "        int : chain_sum_int,\n",
    "        float : chain_sum_float\n",
    "    }\n",
    "    def __new__(cls, num : Generic[T]):\n",
    "        return cls.type_dict[type(num)](num)\n",
    "    \n",
    "print(1 + chain_sum(-3.21)(3)(1)(0.221))"
   ]
  },
  {
   "cell_type": "code",
   "execution_count": 23,
   "id": "c1cd23e3",
   "metadata": {},
   "outputs": [
    {
     "data": {
      "text/plain": [
       "25.9"
      ]
     },
     "execution_count": 23,
     "metadata": {},
     "output_type": "execute_result"
    }
   ],
   "source": [
    "chain_sum(2)(23.9)()"
   ]
  },
  {
   "cell_type": "code",
   "execution_count": 26,
   "id": "6fd50ba7",
   "metadata": {},
   "outputs": [
    {
     "name": "stdout",
     "output_type": "stream",
     "text": [
      "-3.989\n"
     ]
    }
   ],
   "source": [
    "print(1 + chain_sum(-3.21)(-3)(1)(0.221))"
   ]
  }
 ],
 "metadata": {
  "kernelspec": {
   "display_name": "Python 3.9.13 ('wdp')",
   "language": "python",
   "name": "python3"
  },
  "language_info": {
   "codemirror_mode": {
    "name": "ipython",
    "version": 3
   },
   "file_extension": ".py",
   "mimetype": "text/x-python",
   "name": "python",
   "nbconvert_exporter": "python",
   "pygments_lexer": "ipython3",
   "version": "3.9.13"
  },
  "vscode": {
   "interpreter": {
    "hash": "28b54341ba418d8b41d9325a8bada4493fdc67b96c9c52df79ec734ce3f30c44"
   }
  }
 },
 "nbformat": 4,
 "nbformat_minor": 5
}
