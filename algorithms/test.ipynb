{
 "cells": [
  {
   "cell_type": "code",
   "execution_count": 1,
   "metadata": {},
   "outputs": [],
   "source": [
    "import pandas as pd\n",
    "import numpy as np"
   ]
  },
  {
   "cell_type": "code",
   "execution_count": null,
   "metadata": {},
   "outputs": [],
   "source": []
  },
  {
   "cell_type": "code",
   "execution_count": 4,
   "metadata": {},
   "outputs": [
    {
     "name": "stdout",
     "output_type": "stream",
     "text": [
      "[0, 1, 2, 3, 11, 22, 101, 111, 121, 202, 212, 1001, 1111, 2002, 10001]\n"
     ]
    }
   ],
   "source": [
    "def is_palindrome(n : int) -> bool:\n",
    "  s = str(n)\n",
    "  return s == s[::-1]\n",
    "\n",
    "def check_condition(n: int) -> bool:\n",
    "  if n >= 0:\n",
    "    return is_palindrome(n) and is_palindrome(n**2)\n",
    "  else:\n",
    "    return False\n",
    "\n",
    "result = []\n",
    "i = 0\n",
    "while len(result) < 15:\n",
    "  if check_condition(i):\n",
    "    result.append(i)\n",
    "  i += 1\n",
    "print(result)"
   ]
  }
 ],
 "metadata": {
  "kernelspec": {
   "display_name": "Python 3.9.13 ('adv_rl')",
   "language": "python",
   "name": "python3"
  },
  "language_info": {
   "codemirror_mode": {
    "name": "ipython",
    "version": 3
   },
   "file_extension": ".py",
   "mimetype": "text/x-python",
   "name": "python",
   "nbconvert_exporter": "python",
   "pygments_lexer": "ipython3",
   "version": "3.9.13"
  },
  "orig_nbformat": 4,
  "vscode": {
   "interpreter": {
    "hash": "b56e018f216d5d9e79dda137e8a8b613ffc749612a22bd44cec590afb667c765"
   }
  }
 },
 "nbformat": 4,
 "nbformat_minor": 2
}
