{
 "cells": [
  {
   "cell_type": "code",
   "execution_count": 1,
   "metadata": {},
   "outputs": [],
   "source": [
    "# The goal of this homework is to create a regression model for predicting housing prices (column `'median_house_value'`).\n",
    "\n",
    "import pandas as pd\n",
    "import numpy as np\n",
    "import matplotlib.pyplot as plt\n",
    "import seaborn as sns\n",
    "import sklearn as sk"
   ]
  },
  {
   "cell_type": "code",
   "execution_count": 2,
   "metadata": {},
   "outputs": [
    {
     "data": {
      "text/plain": [
       "<AxesSubplot:>"
      ]
     },
     "execution_count": 2,
     "metadata": {},
     "output_type": "execute_result"
    },
    {
     "data": {
      "image/png": "[encoded data removed]",
      "text/plain": [
       "<Figure size 640x480 with 1 Axes>"
      ]
     },
     "metadata": {},
     "output_type": "display_data"
    }
   ],
   "source": [
    "# EDA\n",
    "\n",
    "df = pd.read_csv('../housing.csv')\n",
    "df['median_house_value'].hist(bins=150)"
   ]
  },
  {
   "cell_type": "code",
   "execution_count": 3,
   "metadata": {},
   "outputs": [],
   "source": [
    "# Preparing the dataset\n",
    "\n",
    "df = df[df['ocean_proximity'].isin(['<1H OCEAN', 'INLAND'])]\n",
    "df = df[['latitude', 'longitude', 'housing_median_age', 'total_rooms', \n",
    "         'total_bedrooms', 'population', 'households', 'median_income', 'median_house_value']]"
   ]
  },
  {
   "cell_type": "code",
   "execution_count": 4,
   "metadata": {},
   "outputs": [
    {
     "data": {
      "text/plain": [
       "latitude                0\n",
       "longitude               0\n",
       "housing_median_age      0\n",
       "total_rooms             0\n",
       "total_bedrooms        157\n",
       "population              0\n",
       "households              0\n",
       "median_income           0\n",
       "median_house_value      0\n",
       "dtype: int64"
      ]
     },
     "execution_count": 4,
     "metadata": {},
     "output_type": "execute_result"
    }
   ],
   "source": [
    "# Question 1\n",
    "\n",
    "df.isnull().sum()"
   ]
  },
  {
   "cell_type": "code",
   "execution_count": 5,
   "metadata": {},
   "outputs": [
    {
     "data": {
      "text/plain": [
       "1195.0"
      ]
     },
     "execution_count": 5,
     "metadata": {},
     "output_type": "execute_result"
    }
   ],
   "source": [
    "# Question 2\n",
    "\n",
    "df['population'].median()"
   ]
  },
  {
   "cell_type": "code",
   "execution_count": 7,
   "metadata": {},
   "outputs": [],
   "source": [
    "# Prepare and split the dataset\n",
    "\n",
    "from sklearn.model_selection import train_test_split\n",
    "SEED = 42\n",
    "\n",
    "df = df.sample(frac=1, random_state=SEED)\n",
    "X = df.drop(columns=['median_house_value'])\n",
    "y = np.log1p(df['median_house_value'])\n",
    "\n",
    "X_train, X_val, y_train, y_val = train_test_split(X, y, test_size=0.4, random_state=SEED)\n",
    "X_val, X_test, y_val, y_test = train_test_split(X_val, y_val, test_size=0.5, random_state=SEED)"
   ]
  },
  {
   "cell_type": "code",
   "execution_count": 8,
   "metadata": {},
   "outputs": [],
   "source": [
    "# Linear Regression\n",
    "\n",
    "def train_linear_regression(X, y):\n",
    "    ones = np.ones(X.shape[0])\n",
    "    X = np.column_stack([ones, X])\n",
    "\n",
    "    XTX = X.T.dot(X)\n",
    "    XTX_inv = np.linalg.inv(XTX)\n",
    "    w_full = XTX_inv.dot(X.T).dot(y)\n",
    "    \n",
    "    return w_full[0], w_full[1:]"
   ]
  },
  {
   "cell_type": "code",
   "execution_count": 9,
   "metadata": {},
   "outputs": [
    {
     "name": "stdout",
     "output_type": "stream",
     "text": [
      "RMSE of option 1 zero \n",
      "Validation: 0.34\n",
      "RMSE of option 2 mean: \n",
      "Validation: 0.34\n"
     ]
    }
   ],
   "source": [
    "# Question 3\n",
    "\n",
    "# Option 1: fill with 0\n",
    "# from sklearn.linear_model import LinearRegression\n",
    "from sklearn.metrics import mean_squared_error\n",
    "\n",
    "X_train_0 = X_train.fillna(0)\n",
    "X_val_0 = X_val.fillna(0)\n",
    "\n",
    "# model_0 = LinearRegression()\n",
    "# model_0.fit(X_train_0, y_train)\n",
    "# y_pred_0 = model_0.predict(X_val_0)\n",
    "\n",
    "w0_0, w_0 = train_linear_regression(X_train_0, y_train)\n",
    "y_pred_0 = w0_0 + X_val_0.dot(w_0)\n",
    "\n",
    "score_0 = mean_squared_error(y_val, y_pred_0, squared=False) # RMSE\n",
    "\n",
    "# Option 2: fill with mean\n",
    "\n",
    "X_train_mean = X_train.fillna(X_train.mean())\n",
    "X_val_mean = X_val.fillna(X_train.mean())\n",
    "\n",
    "# model_mean = LinearRegression()\n",
    "# model_mean.fit(X_train_mean, y_train)\n",
    "# y_pred_mean = model_mean.predict(X_val_mean)\n",
    "\n",
    "w_0_mean, w_mean = train_linear_regression(X_train_mean, y_train)\n",
    "y_pred_mean = w_0_mean + X_val_mean.dot(w_mean)\n",
    "\n",
    "score_mean = mean_squared_error(y_val, y_pred_mean, squared=False) # RMSE\n",
    "\n",
    "print(f'RMSE of option 1 zero \\nValidation: {round(score_0, 2)}')\n",
    "print(f'RMSE of option 2 mean: \\nValidation: {round(score_mean, 2)}')"
   ]
  },
  {
   "cell_type": "code",
   "execution_count": 10,
   "metadata": {},
   "outputs": [],
   "source": [
    "def train_linear_regression_reg(X, y, r=0.001):\n",
    "    ones = np.ones(X.shape[0])\n",
    "    X = np.column_stack([ones, X])\n",
    "\n",
    "    XTX = X.T.dot(X)\n",
    "    XTX = XTX + r * np.eye(XTX.shape[0])\n",
    "\n",
    "    XTX_inv = np.linalg.inv(XTX)\n",
    "    w_full = XTX_inv.dot(X.T).dot(y)\n",
    "    \n",
    "    return w_full[0], w_full[1:]"
   ]
  },
  {
   "cell_type": "code",
   "execution_count": 12,
   "metadata": {},
   "outputs": [
    {
     "name": "stdout",
     "output_type": "stream",
     "text": [
      "r: 0\n",
      "Val RMSE: 0.33828\n",
      "\n",
      "r: 1e-06\n",
      "Val RMSE: 0.33828\n",
      "\n",
      "r: 0.0001\n",
      "Val RMSE: 0.33828\n",
      "\n",
      "r: 0.001\n",
      "Val RMSE: 0.33828\n",
      "\n",
      "r: 0.01\n",
      "Val RMSE: 0.33827\n",
      "\n",
      "r: 0.1\n",
      "Val RMSE: 0.33841\n",
      "\n",
      "r: 1\n",
      "Val RMSE: 0.34136\n",
      "\n",
      "r: 5\n",
      "Val RMSE: 0.34403\n",
      "\n",
      "r: 10\n",
      "Val RMSE: 0.34458\n",
      "\n",
      "Best r: 0.01\n",
      "Best score: 0.34\n"
     ]
    }
   ],
   "source": [
    "# Question 4\n",
    "\n",
    "# from sklearn.linear_model import Ridge\n",
    "\n",
    "X_train_0 = X_train.fillna(0)\n",
    "X_val_0 = X_val.fillna(0)\n",
    "\n",
    "scores = []\n",
    "best_score = None\n",
    "best_r = None\n",
    "r = [0, 0.000001, 0.0001, 0.001, 0.01, 0.1, 1, 5, 10]\n",
    "\n",
    "for i in r:\n",
    "    \n",
    "    # model = Ridge(alpha=i)\n",
    "    # model.fit(X_train_0, y_train)\n",
    "    # y_pred = model.predict(X_val_0)\n",
    "    \n",
    "    w0, w = train_linear_regression_reg(X_train_0, y_train, r=i)\n",
    "    y_pred = w0 + X_val_0.dot(w)\n",
    "    \n",
    "    score = mean_squared_error(y_val, y_pred, squared=False)\n",
    "    scores.append(round(score, 2))\n",
    "    \n",
    "    if best_score is None or score < best_score:\n",
    "        best_score = score\n",
    "        best_r = i\n",
    "        \n",
    "    if best_score == score:\n",
    "        best_r = min(best_r, i)\n",
    "        \n",
    "    print(f'r: {i}\\nVal RMSE: {round(score, 5)}\\n')\n",
    "        \n",
    "print(f'Best r: {best_r}\\nBest score: {round(best_score, 2)}')"
   ]
  },
  {
   "cell_type": "code",
   "execution_count": 13,
   "metadata": {},
   "outputs": [
    {
     "name": "stdout",
     "output_type": "stream",
     "text": [
      "Seed: 0\n",
      "Val RMSE: 0.33469\n",
      "\n",
      "Seed: 1\n",
      "Val RMSE: 0.33989\n",
      "\n",
      "Seed: 2\n",
      "Val RMSE: 0.3341\n",
      "\n",
      "Seed: 3\n",
      "Val RMSE: 0.33643\n",
      "\n",
      "Seed: 4\n",
      "Val RMSE: 0.3342\n",
      "\n",
      "Seed: 5\n",
      "Val RMSE: 0.33241\n",
      "\n",
      "Seed: 6\n",
      "Val RMSE: 0.33908\n",
      "\n",
      "Seed: 7\n",
      "Val RMSE: 0.33247\n",
      "\n",
      "Seed: 8\n",
      "Val RMSE: 0.33493\n",
      "\n",
      "Seed: 9\n",
      "Val RMSE: 0.34903\n",
      "\n",
      "Standard deviation: 0.007\n"
     ]
    }
   ],
   "source": [
    "# Question 5\n",
    "\n",
    "seed_list = [0, 1, 2, 3, 4, 5, 6, 7, 8, 9]\n",
    "scores = []\n",
    "\n",
    "for i in seed_list:\n",
    "        \n",
    "        X_train, X_val, y_train, y_val = train_test_split(X, y, test_size=0.4, random_state=i)\n",
    "        X_val, X_test, y_val, y_test = train_test_split(X_val, y_val, test_size=0.5, random_state=i)\n",
    "        \n",
    "        X_train_0 = X_train.fillna(0)\n",
    "        X_val_0 = X_val.fillna(0)\n",
    "        \n",
    "        # model = LinearRegression()\n",
    "        # model.fit(X_train_0, y_train)\n",
    "        # y_pred = model.predict(X_val_0)\n",
    "        \n",
    "        w0, w = train_linear_regression(X_train_0, y_train)\n",
    "        y_pred = w0 + X_val_0.dot(w)\n",
    "        \n",
    "        score = mean_squared_error(y_val, y_pred, squared=False)\n",
    "        scores.append(round(score, 2))\n",
    "        \n",
    "        print(f'Seed: {i}\\nVal RMSE: {round(score, 5)}\\n')\n",
    "        \n",
    "std = np.std(scores)\n",
    "print(f'Standard deviation: {round(std, 3)}')"
   ]
  },
  {
   "cell_type": "code",
   "execution_count": 14,
   "metadata": {},
   "outputs": [
    {
     "name": "stdout",
     "output_type": "stream",
     "text": [
      "Test RMSE: 0.33\n"
     ]
    }
   ],
   "source": [
    "# Question 6\n",
    "\n",
    "X_train, X_val, y_train, y_val = train_test_split(X, y, test_size=0.4, random_state=9)\n",
    "X_val, X_test, y_val, y_test = train_test_split(X_val, y_val, test_size=0.5, random_state=9)\n",
    "\n",
    "X_train = pd.concat([X_train, X_val])\n",
    "y_train = pd.concat([y_train, y_val])\n",
    "\n",
    "X_train_0 = X_train.fillna(0)\n",
    "X_test_0 = X_test.fillna(0)\n",
    "\n",
    "# model = Ridge(alpha=0.001)\n",
    "# model.fit(X_train_0, y_train)\n",
    "# y_pred = model.predict(X_test_0)\n",
    "\n",
    "w0, w = train_linear_regression_reg(X_train_0, y_train, r=0.001)\n",
    "y_pred = w0 + X_test_0.dot(w)\n",
    "\n",
    "score = mean_squared_error(y_test, y_pred, squared=False)\n",
    "print(f'Test RMSE: {round(score, 2)}')"
   ]
  }
 ],
 "metadata": {
  "kernelspec": {
   "display_name": "adv_rl",
   "language": "python",
   "name": "python3"
  },
  "language_info": {
   "codemirror_mode": {
    "name": "ipython",
    "version": 3
   },
   "file_extension": ".py",
   "mimetype": "text/x-python",
   "name": "python",
   "nbconvert_exporter": "python",
   "pygments_lexer": "ipython3",
   "version": "3.9.13"
  },
  "orig_nbformat": 4
 },
 "nbformat": 4,
 "nbformat_minor": 2
}
